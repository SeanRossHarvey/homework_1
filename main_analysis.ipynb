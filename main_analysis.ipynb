{
 "cells": [
  {
   "cell_type": "markdown",
   "metadata": {},
   "source": "# Homework 1: Text data collection and analysis across topics\n\nThis notebook demonstrates the complete pipeline for collecting, processing, and analysing text data from Wikipedia across different topics."
  },
  {
   "cell_type": "markdown",
   "metadata": {},
   "source": "## 1. Data collection\n\nFirst, we'll scrape Wikipedia articles from four distinct topics."
  },
  {
   "cell_type": "code",
   "execution_count": null,
   "metadata": {},
   "outputs": [],
   "source": [
    "from scraper import WikipediaScraper\n",
    "import os\n",
    "\n",
    "# Check if data already exists\n",
    "if not os.path.exists('data/scraped_data.json'):\n",
    "    # Define topics - choosing distinct categories\n",
    "    topics = {\n",
    "        'Politics': 'Politics',\n",
    "        'Technology': 'Computer_science',\n",
    "        'Science': 'Physics',\n",
    "        'History': 'Ancient_history'\n",
    "    }\n",
    "    \n",
    "    # Create scraper and collect data\n",
    "    scraper = WikipediaScraper()\n",
    "    data = scraper.scrape_topics(topics, articles_per_topic=50)\n",
    "    scraper.save_data(data)\n",
    "else:\n",
    "    print(\"Data already scraped. Loading existing data...\")"
   ]
  },
  {
   "cell_type": "markdown",
   "metadata": {},
   "source": "## 2. Text processing\n\nNow we'll process the scraped text data: tokenise, remove stopwords, and create a Document-Term Matrix."
  },
  {
   "cell_type": "code",
   "execution_count": null,
   "metadata": {},
   "outputs": [],
   "source": [
    "from text_processor import TextProcessor\n",
    "import json\n",
    "\n",
    "# Process the scraped data\n",
    "processor = TextProcessor()\n",
    "processed_data = processor.load_and_process_data()\n",
    "\n",
    "# Save processed data for future use\n",
    "processor.save_processed_data(processed_data)\n",
    "\n",
    "print(f\"\\nProcessing complete!\")\n",
    "print(f\"Total documents processed: {len(processed_data['texts'])}\")\n",
    "print(f\"DTM shape: {processed_data['dtm_tfidf'].shape}\")\n",
    "print(f\"\\nDocuments per topic:\")\n",
    "for topic in set(processed_data['topics']):\n",
    "    count = processed_data['topics'].count(topic)\n",
    "    print(f\"  {topic}: {count}\")"
   ]
  },
  {
   "cell_type": "markdown",
   "metadata": {},
   "source": "## 3. Similarity analysis\n\nCalculate document similarities and analyse patterns across topics."
  },
  {
   "cell_type": "code",
   "execution_count": null,
   "metadata": {},
   "outputs": [],
   "source": [
    "from similarity_analyser import SimilarityAnalyser\n",
    "import numpy as np\n",
    "\n",
    "# Create analyser\n",
    "analyser = SimilarityAnalyser()\n",
    "\n",
    "# Calculate similarities\n",
    "similarities = analyser.calculate_similarities(processed_data['dtm_tfidf'])\n",
    "\n",
    "# Get similarity statistics\n",
    "stats = analyser.get_similarity_statistics(similarities, processed_data['topics'])\n",
    "\n",
    "print(\"Similarity Statistics:\\n\")\n",
    "print(\"Within-topic similarities:\")\n",
    "for key, value in stats.items():\n",
    "    if '_within' in key:\n",
    "        topic = key.replace('_within', '')\n",
    "        print(f\"  {topic}: mean={value['mean']:.3f}, std={value['std']:.3f}\")\n",
    "\n",
    "print(\"\\nBetween-topic similarities:\")\n",
    "for key, value in stats.items():\n",
    "    if '_vs_' in key:\n",
    "        print(f\"  {key}: mean={value['mean']:.3f}, std={value['std']:.3f}\")"
   ]
  },
  {
   "cell_type": "markdown",
   "metadata": {},
   "source": "## 4. Threshold-based clustering\n\nCluster documents using different similarity thresholds and evaluate performance."
  },
  {
   "cell_type": "code",
   "execution_count": null,
   "metadata": {},
   "outputs": [],
   "source": [
    "# Test different thresholds\n",
    "thresholds = [0.2, 0.4, 0.6, 0.8]\n",
    "\n",
    "for threshold in thresholds:\n",
    "    print(f\"\\nThreshold: {threshold}\")\n",
    "    print(\"-\" * 50)\n",
    "    \n",
    "    # Cluster documents\n",
    "    cluster_labels = analyser.cluster_by_threshold(similarities, threshold)\n",
    "    \n",
    "    # Create confusion matrices\n",
    "    cm_data = analyser.create_confusion_matrices(processed_data['topics'], cluster_labels)\n",
    "    \n",
    "    # Print results\n",
    "    print(f\"Number of clusters: {len(np.unique(cluster_labels))}\")\n",
    "    print(f\"\\nConfusion Matrix:\")\n",
    "    print(cm_data['confusion_matrix'])\n",
    "    \n",
    "    # Calculate accuracy\n",
    "    correct = np.trace(cm_data['confusion_matrix'])\n",
    "    total = np.sum(cm_data['confusion_matrix'])\n",
    "    accuracy = correct / total\n",
    "    print(f\"\\nAccuracy: {accuracy:.3f}\")"
   ]
  },
  {
   "cell_type": "markdown",
   "metadata": {},
   "source": [
    "## 5. Visualisations\n",
    "\n",
    "Create visualisations to better understand the data and results."
   ]
  },
  {
   "cell_type": "code",
   "execution_count": null,
   "metadata": {},
   "outputs": [],
   "source": [
    "from visualisation import Visualiser\n",
    "import matplotlib.pyplot as plt\n",
    "\n",
    "# Create visualiser\n",
    "viz = Visualiser()\n",
    "\n",
    "# Plot similarity networks for different thresholds\n",
    "fig = viz.plot_similarity_networks(similarities, processed_data['topics'], thresholds)\n",
    "plt.savefig('data/similarity_networks.png', dpi=300, bbox_inches='tight')\n",
    "plt.show()"
   ]
  },
  {
   "cell_type": "code",
   "execution_count": null,
   "metadata": {},
   "outputs": [],
   "source": [
    "# Plot similarity distributions\n",
    "fig = viz.plot_similarity_distribution(similarities, processed_data['topics'])\n",
    "plt.savefig('data/similarity_distribution.png', dpi=300, bbox_inches='tight')\n",
    "plt.show()"
   ]
  },
  {
   "cell_type": "code",
   "execution_count": null,
   "metadata": {},
   "outputs": [],
   "source": [
    "# Plot topic characteristics\n",
    "fig = viz.plot_topic_characteristics(processed_data['dtm_tfidf'], \n",
    "                                   processed_data['features'], \n",
    "                                   processed_data['topics'])\n",
    "plt.savefig('data/topic_characteristics.png', dpi=300, bbox_inches='tight')\n",
    "plt.show()"
   ]
  },
  {
   "cell_type": "markdown",
   "metadata": {},
   "source": "## 6. Confusion matrices (bonus)\n\nDisplay confusion matrices for the best performing threshold."
  },
  {
   "cell_type": "code",
   "execution_count": null,
   "metadata": {},
   "outputs": [],
   "source": [
    "# Use threshold 0.4 which typically gives good separation\n",
    "best_threshold = 0.4\n",
    "cluster_labels = analyser.cluster_by_threshold(similarities, best_threshold)\n",
    "cm_data = analyser.create_confusion_matrices(processed_data['topics'], cluster_labels)\n",
    "\n",
    "# Plot confusion matrices\n",
    "fig = viz.plot_confusion_matrices(cm_data)\n",
    "plt.savefig('data/confusion_matrices.png', dpi=300, bbox_inches='tight')\n",
    "plt.show()"
   ]
  },
  {
   "cell_type": "markdown",
   "metadata": {},
   "source": "## 7. Word clouds for clusters\n\nVisualise the most frequent words in each detected cluster."
  },
  {
   "cell_type": "code",
   "execution_count": null,
   "metadata": {},
   "outputs": [],
   "source": [
    "# Analyse clusters\n",
    "cluster_analysis = analyser.analyse_clusters(\n",
    "    processed_data['texts'],\n",
    "    processed_data['features'],\n",
    "    processed_data['dtm_tfidf'],\n",
    "    cluster_labels,\n",
    "    processed_data['topics']\n",
    ")\n",
    "\n",
    "# Create word clouds\n",
    "fig = viz.create_wordclouds(cluster_analysis)\n",
    "plt.savefig('data/cluster_wordclouds.png', dpi=300, bbox_inches='tight')\n",
    "plt.show()"
   ]
  },
  {
   "cell_type": "markdown",
   "metadata": {},
   "source": "## Summary and interpretation\n\nBased on the analysis above:\n\n1. **Within-topic similarities** are generally higher than between-topic similarities, confirming that documents within the same topic share more similar language patterns.\n\n2. **Threshold selection**: A threshold around 0.3-0.4 appears to provide good separation between topics while maintaining coherent clusters.\n\n3. **Language patterns**: Each topic has distinct vocabulary:\n   - Politics: government, election, party, policy\n   - Technology: computer, software, algorithm, system\n   - Science: theory, quantum, particle, energy\n   - History: ancient, century, empire, civilisation\n\n4. **Clustering performance**: The confusion matrices show that our similarity-based clustering can effectively separate documents by topic, with most misclassifications occurring between conceptually related topics."
  }
 ],
 "metadata": {
  "kernelspec": {
   "display_name": "Python 3",
   "language": "python",
   "name": "python3"
  },
  "language_info": {
   "codemirror_mode": {
    "name": "ipython",
    "version": 3
   },
   "file_extension": ".py",
   "mimetype": "text/x-python",
   "name": "python",
   "nbconvert_exporter": "python",
   "pygments_lexer": "ipython3",
   "version": "3.8.0"
  }
 },
 "nbformat": 4,
 "nbformat_minor": 4
}